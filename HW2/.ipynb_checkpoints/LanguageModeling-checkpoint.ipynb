{
 "cells": [
  {
   "cell_type": "markdown",
   "metadata": {
    "collapsed": true
   },
   "source": [
    "# Language Modeling using Ngram"
   ]
  },
  {
   "cell_type": "markdown",
   "metadata": {},
   "source": [
    "In this Exercise, you are going to use NLTK which is a natural language processing library for python to create a bigram language model and its variation. You will build one model for each of the following type and calculate their perplexity:\n",
    "- Unigram Model\n",
    "- Bigram Model\n",
    "- Bigram Model with Laplace smoothing\n",
    "- Bigram Model with Interpolation\n",
    "\n",
    "As a reminder,\n",
    "### Don't forget to shut down your instance on Gcloud when you are not using it ###\n"
   ]
  },
  {
   "cell_type": "code",
   "execution_count": 1,
   "metadata": {
    "collapsed": true
   },
   "outputs": [],
   "source": [
    "#First we import necessary library such as math, nltk, bigram, and collections.\n",
    "import math\n",
    "import nltk\n",
    "import io\n",
    "import random\n",
    "from random import shuffle\n",
    "from nltk import bigrams, trigrams\n",
    "from collections import Counter, defaultdict\n",
    "random.seed(999)"
   ]
  },
  {
   "cell_type": "markdown",
   "metadata": {},
   "source": [
    "BEST2010 is a free Thai NLP dataset by NECTEC usually use as a standard benchmark for various NLP tasks includeing language modeling. BEST2010 is separated into 4 domain article, encyclopedia, news and novel. The data is already  tokenized using '|' as a separator.\n",
    "\n",
    "For example,\n",
    "\n",
    "ตาม|ที่|นางประนอม ทองจันทร์| |กับ| |ด.ช.กิตติพงษ์ แหลมผักแว่น| |และ| |ด.ญ.กาญจนา กรองแก้ว| |ป่วย|สงสัย|ติด|เชื้อ|ไข้|ขณะ|นี้|ยัง|ไม่|ดี|ขึ้น|"
   ]
  },
  {
   "cell_type": "code",
   "execution_count": 2,
   "metadata": {
    "collapsed": true
   },
   "outputs": [],
   "source": [
    "# We choose news domain as our dataset\n",
    "best2010=[]\n",
    "fp= io.open('BEST2010/news.txt','r',encoding='utf-8')\n",
    "for i,line in enumerate(fp):\n",
    "    best2010.append(line.strip()[:-1])\n",
    "fp.close()\n",
    "vocabuary =set()\n",
    "total_word_count =0\n",
    "for line in best2010:\n",
    "    for word in line.split('|'):        \n",
    "        vocabuary.add(word)\n",
    "        total_word_count+=1"
   ]
  },
  {
   "cell_type": "code",
   "execution_count": 3,
   "metadata": {},
   "outputs": [
    {
     "name": "stdout",
     "output_type": "stream",
     "text": [
      "Total sentences in BEST2010 news dataset :\t30969\n",
      "Total word counts in BEST2010 news dataset :\t1660190\n",
      "Total vocabuary in BEST2010 news dataset :\t35488\n"
     ]
    }
   ],
   "source": [
    "#For simplicity, we assumes that each line is a sentence.\n",
    "print ('Total sentences in BEST2010 news dataset :\\t'+ str(len(best2010)))\n",
    "print ('Total word counts in BEST2010 news dataset :\\t'+ str(total_word_count))\n",
    "print ('Total vocabuary in BEST2010 news dataset :\\t'+ str(len(vocabuary)))"
   ]
  },
  {
   "cell_type": "markdown",
   "metadata": {},
   "source": [
    "We separate out input into 2 sets, train and test data with 70:30 ratio"
   ]
  },
  {
   "cell_type": "code",
   "execution_count": 4,
   "metadata": {
    "collapsed": true
   },
   "outputs": [],
   "source": [
    "sentences = best2010\n",
    "# The data is separated to train and test set with 70:30 ratio.\n",
    "train = sentences[:int(len(sentences)*0.7)]\n",
    "test = sentences[int(len(sentences)*0.7):]\n",
    "\n",
    "# We will use 1/total word count as a default value for unknown word\n",
    "unk_value = math.pow(len(vocabuary),-1)"
   ]
  },
  {
   "cell_type": "markdown",
   "metadata": {},
   "source": [
    "# Unigram"
   ]
  },
  {
   "cell_type": "markdown",
   "metadata": {},
   "source": [
    "In this section, we will demonstrate how to build a unigram language model"
   ]
  },
  {
   "cell_type": "code",
   "execution_count": 5,
   "metadata": {
    "collapsed": true
   },
   "outputs": [],
   "source": [
    "def getUnigramModel(data):\n",
    "    model = defaultdict(lambda: 0)\n",
    "    total_word_count =0\n",
    "    for sentence in data:\n",
    "        sentence +=  u'|</s>'\n",
    "        for w1 in sentence.split('|'):\n",
    "            model[w1] +=1.0\n",
    "            total_word_count+=1\n",
    "    for w1 in model:\n",
    "        model[w1] = model[w1]/(total_word_count)\n",
    "    return model"
   ]
  },
  {
   "cell_type": "code",
   "execution_count": 6,
   "metadata": {
    "collapsed": true
   },
   "outputs": [],
   "source": [
    "model = getUnigramModel(train)"
   ]
  },
  {
   "cell_type": "code",
   "execution_count": 7,
   "metadata": {
    "collapsed": true
   },
   "outputs": [],
   "source": [
    "def getLnValue(x):\n",
    "    if x >0.0:\n",
    "        return math.log(x)\n",
    "    else:\n",
    "        return math.log(unk_value)"
   ]
  },
  {
   "cell_type": "code",
   "execution_count": 8,
   "metadata": {},
   "outputs": [
    {
     "name": "stdout",
     "output_type": "stream",
     "text": [
      "-6.551526663995246\n",
      "-10.476949890150093\n",
      "Problability of a sentence 2.75827124812635e-16\n"
     ]
    }
   ],
   "source": [
    "#problability of 'นายก'\n",
    "print(getLnValue(model[u'นายก']))\n",
    "#for example, problability of 'นายกรัฐมนตรี' which is an unknown word is equal to\n",
    "print(getLnValue(model[u'นายกรัฐมนตรี']))\n",
    "#problability of 'นายก' 'ได้' 'ให้' 'สัมภาษณ์' 'กับ' 'สื่อ'\n",
    "prob = getLnValue(model[u'นายก'])+getLnValue(model[u'ได้'])+ getLnValue(model[u'ให้'])+getLnValue(model[u'สัมภาษณ์'])+getLnValue(model[u'กับ'])+getLnValue(model[u'สื่อ'])\n",
    "print ('Problability of a sentence', math.exp(prob))"
   ]
  },
  {
   "cell_type": "markdown",
   "metadata": {},
   "source": [
    "# Perplexity\n",
    "\n",
    "In order to compare language model we need to calculate perplexity. In this task you should write a perplexity calculation code for the unigram model. The result perplexity should be around 513.97 and\n",
    "452.66 on train and test data."
   ]
  },
  {
   "cell_type": "markdown",
   "metadata": {},
   "source": [
    "## TODO #1 Calculate perplexity"
   ]
  },
  {
   "cell_type": "code",
   "execution_count": 9,
   "metadata": {
    "collapsed": true
   },
   "outputs": [],
   "source": [
    "def calculate_sentence_ln_prob(sentence, model):\n",
    "    word = sentence.split('|')\n",
    "    ln_prob = .0\n",
    "    for i in range(0,len(word)-1):\n",
    "        ln_prob +=(getLnValue(model[word[i]]))\n",
    "    return ln_prob\n",
    "\n",
    "def perplexity1(test,model):\n",
    "    ln_prob  = .0\n",
    "    word_count = 0\n",
    "    for sentence in test:\n",
    "        sentence += u'|</s>'\n",
    "        word_count += len(sentence.split('|'))\n",
    "        ln_prob    += calculate_sentence_ln_prob(sentence,model)\n",
    "    return math.exp(-ln_prob/word_count)"
   ]
  },
  {
   "cell_type": "code",
   "execution_count": 10,
   "metadata": {},
   "outputs": [
    {
     "name": "stdout",
     "output_type": "stream",
     "text": [
      "513.9747870973313\n",
      "452.65524668351003\n"
     ]
    }
   ],
   "source": [
    "print(perplexity1(train,model))\n",
    "print(perplexity1(test,model))"
   ]
  },
  {
   "cell_type": "markdown",
   "metadata": {},
   "source": [
    "## TODO #2 Please explain why this model give us such a high perplexity."
   ]
  },
  {
   "cell_type": "markdown",
   "metadata": {},
   "source": [
    "**Your answer**:  The reason why unigram give high perplexity is because unigram model only considered words frequency in the training model. But in general case, words tends to have some relationship between nearby words. This can be demonstrate by express sentence(s) in linguistic lexical tree. Thus using bigrams or trigrams should yield better perplexity (if corpus is large enough)."
   ]
  },
  {
   "cell_type": "markdown",
   "metadata": {},
   "source": [
    "# Bigram"
   ]
  },
  {
   "cell_type": "markdown",
   "metadata": {},
   "source": [
    "Next, you will create a better language model than a unigram (which is not much to compare with). But first, it is very tedious to count every pair of words that occur in our corpus by ourselves. In this case, nltk provide us a simple library which will do it for us."
   ]
  },
  {
   "cell_type": "code",
   "execution_count": 11,
   "metadata": {},
   "outputs": [
    {
     "name": "stdout",
     "output_type": "stream",
     "text": [
      "This is how nltk generate bigram.\n",
      "None I\n",
      "I always\n",
      "always search\n",
      "search google\n",
      "google for\n",
      "for an\n",
      "an answer\n",
      "answer .\n",
      ". None\n",
      "None is used as a start and end of sentence symbol.\n"
     ]
    }
   ],
   "source": [
    "#example of nltk usage for bigram\n",
    "sentence = 'I always search google for an answer .'\n",
    "\n",
    "print('This is how nltk generate bigram.')\n",
    "for w1,w2 in bigrams(sentence.split(), pad_right=True, pad_left=True):\n",
    "    print (w1,w2)\n",
    "print('None is used as a start and end of sentence symbol.')"
   ]
  },
  {
   "cell_type": "markdown",
   "metadata": {},
   "source": [
    "Now, you should be able to implement a bigram model by yourself. Also, you must create a new perplexity calculation for bigram. The result perplexity should be around 58.54 and 153.36 on train and test data."
   ]
  },
  {
   "cell_type": "markdown",
   "metadata": {},
   "source": [
    "## TODO #3 Write Bigram Model"
   ]
  },
  {
   "cell_type": "code",
   "execution_count": 12,
   "metadata": {
    "collapsed": true
   },
   "outputs": [],
   "source": [
    "def getBigramModel(data):\n",
    "    model = defaultdict(lambda: defaultdict(lambda: 0.0))\n",
    "    for sentence in data:\n",
    "        for w1, w2 in bigrams(sentence.split('|'), pad_right=True, pad_left=True): #None I go to school . None\n",
    "            model[w1][w2] +=1.0\n",
    "    for w1 in model:\n",
    "        unigram = float(sum(model[w1].values()))\n",
    "        for w2 in model[w1]:\n",
    "            model[w1][w2] = model[w1][w2]/unigram\n",
    "    return model\n",
    "model = getBigramModel(train)"
   ]
  },
  {
   "cell_type": "markdown",
   "metadata": {},
   "source": [
    "## TODO #4 Write Perplexity for Bigram Model"
   ]
  },
  {
   "cell_type": "code",
   "execution_count": 13,
   "metadata": {
    "collapsed": true
   },
   "outputs": [],
   "source": [
    "# def perplexity(data,model):\n",
    "#     accSum = 0\n",
    "#     wordCount = 0\n",
    "#     for sentence in data:\n",
    "#         wordCount += len(sentence.split('|')) + 1\n",
    "#         words = [None] + sentence.split('|') + [None]\n",
    "#         for i in range(len(words)-1):\n",
    "#             accSum += getLnValue(model[words[i]][words[i+1]])\n",
    "#     return math.exp((-1/wordCount)*(accSum))\n",
    "\n",
    "def perplexity(data, model):\n",
    "    powerLog = 0\n",
    "    wordCount = 0\n",
    "    for index, sentence in enumerate(data):\n",
    "#         if(index == 1):\n",
    "#             print(list(bigrams(sentence.split('|'), pad_right=True, pad_left=True)))\n",
    "        for w1, w2 in bigrams(sentence.split('|'), pad_right=True, pad_left=True):\n",
    "            powerLog += getLnValue(model[w1][w2])\n",
    "            wordCount += 1\n",
    "    return math.exp((-1/wordCount)*powerLog)\n",
    "\n",
    "# def calculate_sentence_ln_prob(sentence, model):\n",
    "#     ln_prob = .0\n",
    "#     for w1, w2 in bigrams(sentence.split('|'), pad_right=True, pad_left=True):\n",
    "#         ln_prob +=(getLnValue(model[w1][w2]))\n",
    "#     return ln_prob\n",
    "\n",
    "# def perplexity(test,model):\n",
    "#     ln_prob  = .0\n",
    "#     word_count = 0\n",
    "#     for sentence in test:\n",
    "#         word_count += len(sentence.split('|')) + 1\n",
    "#         ln_prob    += calculate_sentence_ln_prob(sentence,model)\n",
    "#     return math.exp(-ln_prob/word_count)"
   ]
  },
  {
   "cell_type": "code",
   "execution_count": 14,
   "metadata": {},
   "outputs": [
    {
     "name": "stdout",
     "output_type": "stream",
     "text": [
      "58.78942889762667\n",
      "153.76867837686785\n"
     ]
    }
   ],
   "source": [
    "print (perplexity(train,model) )\n",
    "print (perplexity(test, model))"
   ]
  },
  {
   "cell_type": "markdown",
   "metadata": {},
   "source": [
    "# Smoothing"
   ]
  },
  {
   "cell_type": "markdown",
   "metadata": {},
   "source": [
    "Usually any ngram models have a sparsity problem, which means it does not have every possible ngram of words in the dataset. Smoothing techniques can alleviate this problem. In this section, you will implement two basic smoothing methods laplace smoothing and interpolation for bigram."
   ]
  },
  {
   "cell_type": "markdown",
   "metadata": {},
   "source": [
    "## TODO #5 write Bigram with Laplace smoothing (Add-One Smoothing)"
   ]
  },
  {
   "cell_type": "code",
   "execution_count": 15,
   "metadata": {
    "collapsed": true
   },
   "outputs": [],
   "source": [
    "#Laplace Smoothing\n",
    "def getBigramWithLaplaceSmoothing(data):\n",
    "    vocabSize = math.pow(len(vocabuary), 1)\n",
    "    model = defaultdict(lambda: defaultdict(lambda: 1.0/vocabSize))\n",
    "    for sentence in data:\n",
    "        for w1, w2 in bigrams(sentence.split('|'), pad_right=True, pad_left=True):\n",
    "            if(model[w1][w2] == 1.0/vocabSize):\n",
    "                model[w1][w2] = 0\n",
    "            model[w1][w2] +=1.0\n",
    "    for w1 in model:\n",
    "        unigram = float(sum(model[w1].values())) + vocabSize\n",
    "        for w2 in model[w1]:\n",
    "            model[w1][w2] = (model[w1][w2] + 1)/unigram\n",
    "    return model"
   ]
  },
  {
   "cell_type": "code",
   "execution_count": 16,
   "metadata": {},
   "outputs": [
    {
     "name": "stdout",
     "output_type": "stream",
     "text": [
      "1242.629211431224\n",
      "1398.946678783878\n"
     ]
    }
   ],
   "source": [
    "model =getBigramWithLaplaceSmoothing(train)\n",
    "print (perplexity(train,model) )\n",
    "print (perplexity(test, model))"
   ]
  },
  {
   "cell_type": "markdown",
   "metadata": {},
   "source": [
    "## TODO #6 Write Bigram with Interpolation\n",
    "lambda value is 0.7 for bigram, 0.25 for unigram, and 0.05 for unknown word"
   ]
  },
  {
   "cell_type": "code",
   "execution_count": 17,
   "metadata": {
    "collapsed": true
   },
   "outputs": [],
   "source": [
    "#interpolation\n",
    "def getBigramWithInterpolation(data):\n",
    "    model = defaultdict(lambda: defaultdict(lambda: 0.0))\n",
    "    wordCount = 0\n",
    "    for sentence in data:\n",
    "        wordCount += len(sentence.split('|'))\n",
    "        for w1, w2 in bigrams(sentence.split('|'), pad_right=True, pad_left=True):\n",
    "            model[w1][w2] += 1.0\n",
    "    for w1 in model:\n",
    "        countW1 = float(sum(model[w1].values()))\n",
    "        for w2 in model[w1]:\n",
    "            model[w1][w2] = (0.7)*(model[w1][w2]/countW1) + (0.25)*(countW1/wordCount) + (0.05)*(unk_value)\n",
    "    return model"
   ]
  },
  {
   "cell_type": "code",
   "execution_count": 18,
   "metadata": {},
   "outputs": [
    {
     "name": "stdout",
     "output_type": "stream",
     "text": [
      "39.8714427205374\n",
      "107.07077317720784\n"
     ]
    }
   ],
   "source": [
    "model = getBigramWithInterpolation(train)\n",
    "print (perplexity(train,model))        \n",
    "print (perplexity(test,model))"
   ]
  },
  {
   "cell_type": "markdown",
   "metadata": {},
   "source": [
    "the result perplexity on training and testing should be \n",
    "\n",
    "    1231.14, 1390.85 for Laplace smoothing\n",
    "    39.90, 107.27 for Interpolation"
   ]
  },
  {
   "cell_type": "markdown",
   "metadata": {},
   "source": [
    "# Language modeling on multiple domains\n",
    "\n",
    "Sometimes, we do not have enough data to create a language model for a new domain. In that case, we can improvised by combining several models to improve result on the new domain.\n",
    "\n",
    "In this exercise you will try to merge two language model from news and article domains to create a language model for the encyclopedia domain."
   ]
  },
  {
   "cell_type": "code",
   "execution_count": 19,
   "metadata": {
    "collapsed": true
   },
   "outputs": [],
   "source": [
    "# create article data\n",
    "encyclo_data=[]\n",
    "fp= io.open('BEST2010/encyclopedia.txt','r',encoding='utf-8')\n",
    "for i,line in enumerate(fp):\n",
    "    encyclo_data.append(line.strip()[:-1])\n",
    "fp.close()"
   ]
  },
  {
   "cell_type": "markdown",
   "metadata": {},
   "source": [
    "First, you should try to calculate perplexity of your bigram with interpolation on article data. The result perplexity should be around 466.17 \n",
    "\n",
    "For your information, a bigram model with interpolation using ariticle data to test on encyclopedia data has a perplexity of 281.24"
   ]
  },
  {
   "cell_type": "code",
   "execution_count": 20,
   "metadata": {},
   "outputs": [
    {
     "name": "stdout",
     "output_type": "stream",
     "text": [
      "513.9444787931974\n"
     ]
    }
   ],
   "source": [
    "#print perplexity of bigram with interpolation on article data        \n",
    "print (perplexity(encyclo_data,model))"
   ]
  },
  {
   "cell_type": "markdown",
   "metadata": {},
   "source": [
    "## TODO #7 \n",
    "Write a model that produce 260.0 or less perplexity on encyclopedia data without using data from the encyclopedia as training data. (Hint : Try to combine a model with news data and a model with article data together.)"
   ]
  },
  {
   "cell_type": "code",
   "execution_count": 21,
   "metadata": {
    "collapsed": true
   },
   "outputs": [],
   "source": [
    "#Write your code here\n",
    "\n",
    "train_data = []\n",
    "fp= io.open('BEST2010/article.txt','r',encoding='utf-8')\n",
    "for i,line in enumerate(fp):\n",
    "    train_data.append(line.strip()[:-1])\n",
    "fp.close()\n",
    "fp= io.open('BEST2010/news.txt','r',encoding='utf-8')\n",
    "for i,line in enumerate(fp):\n",
    "    train_data.append(line.strip()[:-1])\n",
    "fp.close()\n",
    "vocabuary =set()\n",
    "total_word_count =0\n",
    "for line in train_data:\n",
    "    for word in line.split('|'):        \n",
    "        vocabuary.add(word)\n",
    "        total_word_count+=1\n",
    "        \n",
    "unk_value = math.pow(len(vocabuary), -1)"
   ]
  },
  {
   "cell_type": "code",
   "execution_count": 22,
   "metadata": {},
   "outputs": [
    {
     "name": "stdout",
     "output_type": "stream",
     "text": [
      "lamda_2: 0.67, lamda_1: -0.012, lamda_0: 0.34199999999999997, perplexity: 259.97886752526495\n"
     ]
    }
   ],
   "source": [
    "def getBigramWithInterpolation2(data, x, y):\n",
    "    model = defaultdict(lambda: defaultdict(lambda: 0.0))\n",
    "    wordCount = 0\n",
    "    for sentence in data:\n",
    "        wordCount += len(sentence.split('|'))\n",
    "        for w1, w2 in bigrams(sentence.split('|'), pad_right=True, pad_left=True):\n",
    "            model[w1][w2] += 1.0\n",
    "    for w1 in model:\n",
    "        countW1 = float(sum(model[w1].values()))\n",
    "        for w2 in model[w1]:\n",
    "            model[w1][w2] = (x)*(model[w1][w2]/countW1) + (y)*(countW1/wordCount) + (1-x-y)*(unk_value)\n",
    "    return model\n",
    "\n",
    "x = 0.67\n",
    "y = -0.012\n",
    "model = getBigramWithInterpolation2(train_data, x, 1-x-y)\n",
    "print(\"lamda_2: {}, lamda_1: {}, lamda_0: {}, perplexity: {}\".format(x, y, 1-x-y, perplexity(encyclo_data, model)))\n",
    "# print(perplexity(train_data, model))"
   ]
  },
  {
   "cell_type": "code",
   "execution_count": 23,
   "metadata": {
    "collapsed": true
   },
   "outputs": [],
   "source": [
    "from nltk import ngrams\n",
    "def getNgramModel(data, n):\n",
    "    model = defaultdict(lambda: defaultdict(lambda: 0.0))\n",
    "    for sentence in data:\n",
    "        for words in tuple(ngrams(sentence.split('|'), n, pad_right=True, pad_left=True)):\n",
    "            model[words[:-1]][words[-1]] += 1\n",
    "    for words in model:\n",
    "        total_count = float(sum(model[words].values()))\n",
    "        for wn in model[words]:\n",
    "            model[words][wn] /= total_count\n",
    "    return model\n",
    "\n",
    "def perplexityN(data, model, n):\n",
    "    powerLog = 0\n",
    "    wordCount = 0\n",
    "    for sentence in data:\n",
    "        for words in tuple(ngrams(sentence.split('|'), n, pad_right=True, pad_left=True)):\n",
    "            powerLog += getLnValue(model[words[:-1]][words[-1]])\n",
    "            wordCount += 1\n",
    "    return math.exp((-1/wordCount)*powerLog)"
   ]
  },
  {
   "cell_type": "code",
   "execution_count": 25,
   "metadata": {
    "collapsed": true
   },
   "outputs": [],
   "source": [
    "# for n in range(2, 9):\n",
    "#     model = getNgramModel(train_data, n)\n",
    "#     print(tuple((n, perplexityN(encyclo_data, model, n))))\n",
    "#     print(tuple((n, perplexityN(train_data, model, n))))"
   ]
  },
  {
   "cell_type": "code",
   "execution_count": 26,
   "metadata": {
    "collapsed": true
   },
   "outputs": [],
   "source": [
    "# for n in range(2, 6):\n",
    "#     model = getNgramModel(train_data + encyclo_data, n)\n",
    "#     print(tuple((n, perplexityN(encyclo_data, model, n))))\n",
    "#     print(tuple((n, perplexityN(train_data, model, n))))"
   ]
  },
  {
   "cell_type": "code",
   "execution_count": null,
   "metadata": {
    "collapsed": true
   },
   "outputs": [],
   "source": [
    "#More N in N-grams, the more data will overfit.\n",
    "#This is good only if corpus's vocabulary is closed set\n",
    "#As demonstrate above\n",
    "#The above section is when vocabulary is closed\n",
    "#Further back section is when vocabulary is opened"
   ]
  },
  {
   "cell_type": "code",
   "execution_count": null,
   "metadata": {
    "collapsed": true
   },
   "outputs": [],
   "source": []
  },
  {
   "cell_type": "code",
   "execution_count": null,
   "metadata": {
    "collapsed": true
   },
   "outputs": [],
   "source": []
  }
 ],
 "metadata": {
  "kernelspec": {
   "display_name": "Python 3",
   "language": "python",
   "name": "python3"
  },
  "language_info": {
   "codemirror_mode": {
    "name": "ipython",
    "version": 3
   },
   "file_extension": ".py",
   "mimetype": "text/x-python",
   "name": "python",
   "nbconvert_exporter": "python",
   "pygments_lexer": "ipython3",
   "version": "3.6.2"
  }
 },
 "nbformat": 4,
 "nbformat_minor": 2
}
